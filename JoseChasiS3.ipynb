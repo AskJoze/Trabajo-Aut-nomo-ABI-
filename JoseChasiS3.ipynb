{
  "nbformat": 4,
  "nbformat_minor": 0,
  "metadata": {
    "colab": {
      "provenance": [],
      "authorship_tag": "ABX9TyNn3nfWsTAk1eia3XP6PgvC",
      "include_colab_link": true
    },
    "kernelspec": {
      "name": "python3",
      "display_name": "Python 3"
    },
    "language_info": {
      "name": "python"
    }
  },
  "cells": [
    {
      "cell_type": "markdown",
      "metadata": {
        "id": "view-in-github",
        "colab_type": "text"
      },
      "source": [
        "<a href=\"https://colab.research.google.com/github/AskJoze/Trabajo-Aut-nomo-ABI-/blob/main/JoseChasiS3.ipynb\" target=\"_parent\"><img src=\"https://colab.research.google.com/assets/colab-badge.svg\" alt=\"Open In Colab\"/></a>"
      ]
    },
    {
      "cell_type": "code",
      "execution_count": 2,
      "metadata": {
        "colab": {
          "base_uri": "https://localhost:8080/",
          "height": 0
        },
        "id": "istiz2fjw-iP",
        "outputId": "34074cb4-fea6-408e-f117-7e5435b5feb5"
      },
      "outputs": [
        {
          "output_type": "stream",
          "name": "stdout",
          "text": [
            "Probabilidad de obtener un número par al lanzar un dado: 0.5\n"
          ]
        }
      ],
      "source": [
        "import numpy as np\n",
        "import matplotlib.pyplot as plt\n",
        "from scipy.stats import binom, norm\n",
        "# Ejemplo 1\n",
        "def calcular_probabilidad_evento(exitos, espacio_muestral):\n",
        "\n",
        "    probabilidad = len(exitos) / len(espacio_muestral)\n",
        "    return probabilidad\n",
        "# Espacio muestral para el lanzamiento del dado\n",
        "espacio_muestral = [1, 2, 3, 4, 5, 6]\n",
        "# Evento A: obtener un número par\n",
        "evento_A = [2, 4, 6]\n",
        "probabilidad_A = calcular_probabilidad_evento(evento_A, espacio_muestral)\n",
        "# Mostrar resultado con f-string\n",
        "print(f\"Probabilidad de obtener un número par al lanzar un dado: {probabilidad_A}\")"
      ]
    },
    {
      "cell_type": "code",
      "source": [
        "num_experimentos = int(input(\"¿Cuántos lanzamientos de dado quieres realizar? \"))\n",
        "print(num_experimentos)\n",
        "import random\n",
        "pares = []\n",
        "for _ in range(num_experimentos):\n",
        "    dado = random.randint(1, 7)\n",
        "    print(dado)\n",
        "    if dado % 2 == 0:\n",
        "        print(\"Es par\")\n",
        "        pares.append(dado)\n",
        "probabilidad = len(pares) / num_experimentos\n",
        "# Resultados finales\n",
        "print(f\"\\nNúmeros pares obtenidos: {pares}\")\n",
        "print(f\"Cantidad de números pares: {len(pares)}\")\n",
        "print(f\"Probabilidad empírica de obtener un número par: {probabilidad:}\")"
      ],
      "metadata": {
        "colab": {
          "base_uri": "https://localhost:8080/",
          "height": 0
        },
        "id": "BYgn9a6YxcEH",
        "outputId": "20ee09eb-f560-4886-ac98-bf52d156e2ef"
      },
      "execution_count": 4,
      "outputs": [
        {
          "output_type": "stream",
          "name": "stdout",
          "text": [
            "¿Cuántos lanzamientos de dado quieres realizar? 19\n",
            "19\n",
            "2\n",
            "Es par\n",
            "4\n",
            "Es par\n",
            "3\n",
            "6\n",
            "Es par\n",
            "1\n",
            "7\n",
            "6\n",
            "Es par\n",
            "6\n",
            "Es par\n",
            "2\n",
            "Es par\n",
            "5\n",
            "6\n",
            "Es par\n",
            "2\n",
            "Es par\n",
            "2\n",
            "Es par\n",
            "6\n",
            "Es par\n",
            "6\n",
            "Es par\n",
            "4\n",
            "Es par\n",
            "1\n",
            "7\n",
            "2\n",
            "Es par\n",
            "\n",
            "Números pares obtenidos: [2, 4, 6, 6, 6, 2, 6, 2, 2, 6, 6, 4, 2]\n",
            "Cantidad de números pares: 13\n",
            "Probabilidad empírica de obtener un número par: 0.6842105263157895\n"
          ]
        }
      ]
    },
    {
      "cell_type": "code",
      "source": [
        "num_experimentos = int(input(\"¿Cuántos lanzamientos de moneda quieres realizar? \"))\n",
        "print(num_experimentos)\n",
        "caras = []\n",
        "for _ in range(num_experimentos):\n",
        "    moneda = random.randint(1, 2) # Indented this line\n",
        "    print(f\"Lanzamiento: {moneda}\")\n",
        "    if moneda == 1: # Indented this line\n",
        "        print(\"Es Cara\") # Indented this line\n",
        "        caras.append(moneda) # Indented this line\n",
        "probabilidad = len(caras) / num_experimentos\n",
        "print(f\"\\nResultados 'Cara' obtenidos: {caras}\")\n",
        "print(f\"Cantidad de 'Caras': {len(caras)}\")\n",
        "print(f\"Probabilidad empírica de obtener 'Cara': {probabilidad:}\")"
      ],
      "metadata": {
        "colab": {
          "base_uri": "https://localhost:8080/",
          "height": 0
        },
        "id": "MXIDtQFkxrJx",
        "outputId": "a21d3acb-f2b2-4288-eb7d-edcc5f5f1ab8"
      },
      "execution_count": 7,
      "outputs": [
        {
          "output_type": "stream",
          "name": "stdout",
          "text": [
            "¿Cuántos lanzamientos de moneda quieres realizar? 7\n",
            "7\n",
            "Lanzamiento: 1\n",
            "Es Cara\n",
            "Lanzamiento: 2\n",
            "Lanzamiento: 2\n",
            "Lanzamiento: 1\n",
            "Es Cara\n",
            "Lanzamiento: 2\n",
            "Lanzamiento: 1\n",
            "Es Cara\n",
            "Lanzamiento: 2\n",
            "\n",
            "Resultados 'Cara' obtenidos: [1, 1, 1]\n",
            "Cantidad de 'Caras': 3\n",
            "Probabilidad empírica de obtener 'Cara': 0.42857142857142855\n"
          ]
        }
      ]
    }
  ]
}